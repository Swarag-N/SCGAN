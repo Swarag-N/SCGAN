{
 "cells": [
  {
   "cell_type": "code",
   "execution_count": 1,
   "metadata": {},
   "outputs": [],
   "source": [
    "from image_loader import *\n",
    "from Stcgan_net import *\n",
    "import torch\n",
    "import torch.utils.data as Data\n",
    "import os"
   ]
  },
  {
   "cell_type": "code",
   "execution_count": 2,
   "metadata": {},
   "outputs": [],
   "source": [
    "device = torch.device(\"cuda\" if torch.cuda.is_available() else \"cpu\")"
   ]
  },
  {
   "cell_type": "code",
   "execution_count": 4,
   "metadata": {},
   "outputs": [],
   "source": [
    "BATCH_SIZE=1\n",
    "lambda1 = 5\n",
    "lambda2 = 0.1\n",
    "lambda3 = 0.1"
   ]
  },
  {
   "cell_type": "code",
   "execution_count": 5,
   "metadata": {},
   "outputs": [],
   "source": [
    "def single_gpu_train():\n",
    "    dataset = shadow_triplets_loader()\n",
    "    data_loader = Data.DataLoader(dataset, batch_size=BATCH_SIZE)\n",
    "\n",
    "    G1 = Generator_first().to(device)\n",
    "    G2 = Generator_second().to(device)\n",
    "    D1 = Discriminator_first().to(device)\n",
    "    D2 = Discriminator_second().to(device)\n",
    "\n",
    "\n",
    "    criterion1 = torch.nn.BCELoss(size_average=False)\n",
    "    criterion2 = torch.nn.L1Loss()\n",
    "    optimizerd = torch.optim.Adam([\n",
    "        {'params': D1.parameters()},\n",
    "        {'params': D2.parameters()}], lr=0.001)\n",
    "    optimizerg = torch.optim.Adam([\n",
    "        {'params': G1.parameters()},\n",
    "        {'params': G2.parameters()}], lr=0.001)\n",
    "\n",
    "    for epoch in range(100000):\n",
    "        for i, data in enumerate(data_loader):\n",
    "            original_image, shadow_mask, shadow_free_image = data\n",
    "            original_image = original_image.to(device)\n",
    "            shadow_mask = shadow_mask.to(device)\n",
    "            shadow_free_image = shadow_free_image.to(device)\n",
    "\n",
    "            g1_output = G1(original_image)\n",
    "            g1 = torch.cat((original_image, g1_output), 1)\n",
    "            gt1 = torch.cat((original_image, shadow_mask), 1)\n",
    "\n",
    "            prob_gt1 = D1(gt1).detach()\n",
    "            prob_g1 = D1(g1)\n",
    "\n",
    "            #D1_loss = -torch.mean(torch.log(prob_gt1) +  torch.log(1 - prob_g1))\n",
    "            #G1_loss = torch.mean(torch.log(shadow_mask - g1_output))\n",
    "            D1_loss = criterion1(prob_g1, prob_gt1)\n",
    "            G1_loss = criterion2(g1_output, shadow_mask)\n",
    "\n",
    "            g2_input = torch.cat((original_image, shadow_mask), 1)\n",
    "            g2_output = G2(g2_input)\n",
    "\n",
    "            gt2 = torch.cat((original_image, shadow_mask, shadow_free_image), 1)\n",
    "            g2 = torch.cat((original_image, g1_output, g2_output), 1)\n",
    "\n",
    "            prob_gt2 = D2(gt2).detach()\n",
    "            prob_g2 = D2(g2)\n",
    "\n",
    "            #D2_loss = -torch.mean(torch.log(prob_gt2) + torch.log(1 - prob_g2))\n",
    "            #G2_loss = torch.mean(torch.log(shadow_free_image, g2_output))\n",
    "            D2_loss = criterion1(prob_g2, prob_gt2)\n",
    "            G2_loss = criterion2(g2_output, shadow_free_image)\n",
    "\n",
    "            loss = G1_loss + lambda1 * G2_loss + lambda2 * D1_loss + lambda3 * D2_loss\n",
    "            print('Epoch: %d | iter: %d | train loss: %.10f' % (epoch, i, float(loss)))\n",
    "            if epoch % 2000 < 1000:\n",
    "                optimizerd.zero_grad()\n",
    "                loss.backward()\n",
    "                optimizerd.step()\n",
    "            else:\n",
    "                optimizerg.zero_grad()\n",
    "                loss.backward()\n",
    "                optimizerg.step()\n",
    "\n",
    "        if epoch % 100 == 99:\n",
    "            generator1_model = os.path.join(\"model/generator1_%d.pkl\" % epoch)\n",
    "            generator2_model = os.path.join(\"model/generator2_%d.pkl\" % epoch)\n",
    "            discriminator1_model = os.path.join(\"model/discriminator1_%d.pkl\" % epoch)\n",
    "            discriminator2_model = os.path.join(\"model/discriminator2_%d.pkl\" % epoch)\n",
    "            torch.save(G1.state_dict(), generator1_model)\n",
    "            torch.save(G2.state_dict(), generator2_model)\n",
    "            torch.save(D1.state_dict(), discriminator1_model)\n",
    "            torch.save(D2.state_dict(), discriminator2_model)"
   ]
  },
  {
   "cell_type": "code",
   "execution_count": null,
   "metadata": {},
   "outputs": [],
   "source": [
    "single_gpu_train()"
   ]
  }
 ],
 "metadata": {
  "kernelspec": {
   "display_name": "Python 3",
   "language": "python",
   "name": "python3"
  },
  "language_info": {
   "codemirror_mode": {
    "name": "ipython",
    "version": 3
   },
   "file_extension": ".py",
   "mimetype": "text/x-python",
   "name": "python",
   "nbconvert_exporter": "python",
   "pygments_lexer": "ipython3",
   "version": "3.6.4"
  }
 },
 "nbformat": 4,
 "nbformat_minor": 4
}
